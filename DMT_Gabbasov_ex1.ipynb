{
  "metadata": {
    "kernelspec": {
      "name": "python",
      "display_name": "Python (Pyodide)",
      "language": "python"
    },
    "language_info": {
      "codemirror_mode": {
        "name": "python",
        "version": 3
      },
      "file_extension": ".py",
      "mimetype": "text/x-python",
      "name": "python",
      "nbconvert_exporter": "python",
      "pygments_lexer": "ipython3",
      "version": "3.8"
    }
  },
  "nbformat_minor": 4,
  "nbformat": 4,
  "cells": [
    {
      "cell_type": "code",
      "source": "import numpy as np #task1 \nimport pandas as pd ",
      "metadata": {
        "trusted": true
      },
      "outputs": [],
      "execution_count": 1
    },
    {
      "cell_type": "code",
      "source": "np.random.seed(101) #task2 \narr = np.random.randint(0,100,10)\nprint(arr)",
      "metadata": {
        "trusted": true
      },
      "outputs": [
        {
          "name": "stdout",
          "text": "[95 11 81 70 63 87 75  9 77 40]\n",
          "output_type": "stream"
        }
      ],
      "execution_count": 2
    },
    {
      "cell_type": "code",
      "source": "mat =  np.random.randint(0,100,500).reshape(100,5) #task 3\nprint(mat)",
      "metadata": {
        "trusted": true
      },
      "outputs": [
        {
          "name": "stdout",
          "text": "[[ 4 63 40 60 92]\n [64  5 12 93 40]\n [49 83  8 29 59]\n [34 44 72 19 10]\n [76 95 87  0 73]\n [ 8 62 36 83 99]\n [28 63  7 10 52]\n [56 38 73 52 18]\n [71 15 44  0 12]\n [17 75 79 97 93]\n [24 36 63 19 35]\n [30 10 60 20 27]\n [ 8 86 26 87 46]\n [47 54 86  9 45]\n [ 2 18 58 92 11]\n [10 94 35 28  3]\n [83 84 47 14 69]\n [60 69 51  6 88]\n [71 68 23 35 79]\n [98 67 82 57 77]\n [46  3 46 29 86]\n [21 21 81 23 94]\n [71 20 27 75  5]\n [49 86 89 63 82]\n [77  3 56 14 49]\n [87 52 13 47 49]\n [24 20 64 52 60]\n [47 29 60 53 11]\n [40 91 45 97 24]\n [36 38  9 52 67]\n [43  1 79 68 68]\n [61 18 51 14 28]\n [17 87 46 52 16]\n [70 71 84 10 62]\n [96 57 23 86 85]\n [26 76 66 54 17]\n [65 57 89  2 80]\n [50 66 88 79 93]\n [ 6 92 42 22 20]\n [25 97 54 71 72]\n [80 93 64 63 80]\n [38 45 35 25 95]\n [75 72 11 76 79]\n [50 22 59 66  1]\n [34 37 57 35 42]\n [44 49 31 79 85]\n [ 3 55 73 93 94]\n [99 40 54 88 94]\n [86 17 68 17 18]\n [60 83 82  7 67]\n [34 76 94 20 69]\n [73 59 34 69 25]\n [78 92 74 75 33]\n [ 9 43 20 82 30]\n [ 3 46 29 47 27]\n [81 71 25 94 57]\n [21 29  6 54 47]\n [47 60  6 75 97]\n [53 44 98 39 32]\n [87 78 21 90 14]\n [20  1 70 25 45]\n [96 32 31 41 79]\n [87 22 94 46 71]\n [24 41 36 31 16]\n [87 22 96  3 12]\n [71  9 87 95 39]\n [64 62 88 76 93]\n [83 95 68 69 59]\n [52  7 40 73 86]\n [14 49 97 25 57]\n [40 17 32 83 97]\n [27 47 13 70 15]\n [92 18 94 48 65]\n [82 34  5 46 83]\n [27 26 20 87 84]\n [17 59 64 44  4]\n [51 49 74 82 37]\n [53 93 73  5 37]\n [56 35 15 40 42]\n [71 37 46 71 91]\n [97 36 43 27 66]\n [57  3 55 70 41]\n [67 72 88 67 75]\n [69 92 20 15 57]\n [ 9 69 97 91 51]\n [54 45 38 15 42]\n [61  8  3 88 72]\n [41 24 93 28 95]\n [43 48 69 42 66]\n [82 66 88 78 14]\n [53 46 14 27 68]\n [21 38 42 30 88]\n [79 56 65 93 37]\n [87 66 16 60 25]\n [99 30 41 72 45]\n [26 87 65 60 89]\n [70 33 59 28 16]\n [49 95 41 11 86]\n [15 95 91 19 69]\n [ 1 77 63 87 28]]\n",
          "output_type": "stream"
        }
      ],
      "execution_count": 3
    },
    {
      "cell_type": "code",
      "source": "df=pd.DataFrame(mat) #task 4 \ndf",
      "metadata": {
        "trusted": true
      },
      "outputs": [
        {
          "execution_count": 4,
          "output_type": "execute_result",
          "data": {
            "text/plain": "     0   1   2   3   4\n0    4  63  40  60  92\n1   64   5  12  93  40\n2   49  83   8  29  59\n3   34  44  72  19  10\n4   76  95  87   0  73\n..  ..  ..  ..  ..  ..\n95  26  87  65  60  89\n96  70  33  59  28  16\n97  49  95  41  11  86\n98  15  95  91  19  69\n99   1  77  63  87  28\n\n[100 rows x 5 columns]",
            "text/html": "<div>\n<style scoped>\n    .dataframe tbody tr th:only-of-type {\n        vertical-align: middle;\n    }\n\n    .dataframe tbody tr th {\n        vertical-align: top;\n    }\n\n    .dataframe thead th {\n        text-align: right;\n    }\n</style>\n<table border=\"1\" class=\"dataframe\">\n  <thead>\n    <tr style=\"text-align: right;\">\n      <th></th>\n      <th>0</th>\n      <th>1</th>\n      <th>2</th>\n      <th>3</th>\n      <th>4</th>\n    </tr>\n  </thead>\n  <tbody>\n    <tr>\n      <th>0</th>\n      <td>4</td>\n      <td>63</td>\n      <td>40</td>\n      <td>60</td>\n      <td>92</td>\n    </tr>\n    <tr>\n      <th>1</th>\n      <td>64</td>\n      <td>5</td>\n      <td>12</td>\n      <td>93</td>\n      <td>40</td>\n    </tr>\n    <tr>\n      <th>2</th>\n      <td>49</td>\n      <td>83</td>\n      <td>8</td>\n      <td>29</td>\n      <td>59</td>\n    </tr>\n    <tr>\n      <th>3</th>\n      <td>34</td>\n      <td>44</td>\n      <td>72</td>\n      <td>19</td>\n      <td>10</td>\n    </tr>\n    <tr>\n      <th>4</th>\n      <td>76</td>\n      <td>95</td>\n      <td>87</td>\n      <td>0</td>\n      <td>73</td>\n    </tr>\n    <tr>\n      <th>...</th>\n      <td>...</td>\n      <td>...</td>\n      <td>...</td>\n      <td>...</td>\n      <td>...</td>\n    </tr>\n    <tr>\n      <th>95</th>\n      <td>26</td>\n      <td>87</td>\n      <td>65</td>\n      <td>60</td>\n      <td>89</td>\n    </tr>\n    <tr>\n      <th>96</th>\n      <td>70</td>\n      <td>33</td>\n      <td>59</td>\n      <td>28</td>\n      <td>16</td>\n    </tr>\n    <tr>\n      <th>97</th>\n      <td>49</td>\n      <td>95</td>\n      <td>41</td>\n      <td>11</td>\n      <td>86</td>\n    </tr>\n    <tr>\n      <th>98</th>\n      <td>15</td>\n      <td>95</td>\n      <td>91</td>\n      <td>19</td>\n      <td>69</td>\n    </tr>\n    <tr>\n      <th>99</th>\n      <td>1</td>\n      <td>77</td>\n      <td>63</td>\n      <td>87</td>\n      <td>28</td>\n    </tr>\n  </tbody>\n</table>\n<p>100 rows × 5 columns</p>\n</div>"
          },
          "metadata": {}
        }
      ],
      "execution_count": 4
    },
    {
      "cell_type": "code",
      "source": "df.columns=['f1','f2','f3','f4','label'] #task 5 \ndf",
      "metadata": {
        "trusted": true
      },
      "outputs": [
        {
          "execution_count": 5,
          "output_type": "execute_result",
          "data": {
            "text/plain": "    f1  f2  f3  f4  label\n0    4  63  40  60     92\n1   64   5  12  93     40\n2   49  83   8  29     59\n3   34  44  72  19     10\n4   76  95  87   0     73\n..  ..  ..  ..  ..    ...\n95  26  87  65  60     89\n96  70  33  59  28     16\n97  49  95  41  11     86\n98  15  95  91  19     69\n99   1  77  63  87     28\n\n[100 rows x 5 columns]",
            "text/html": "<div>\n<style scoped>\n    .dataframe tbody tr th:only-of-type {\n        vertical-align: middle;\n    }\n\n    .dataframe tbody tr th {\n        vertical-align: top;\n    }\n\n    .dataframe thead th {\n        text-align: right;\n    }\n</style>\n<table border=\"1\" class=\"dataframe\">\n  <thead>\n    <tr style=\"text-align: right;\">\n      <th></th>\n      <th>f1</th>\n      <th>f2</th>\n      <th>f3</th>\n      <th>f4</th>\n      <th>label</th>\n    </tr>\n  </thead>\n  <tbody>\n    <tr>\n      <th>0</th>\n      <td>4</td>\n      <td>63</td>\n      <td>40</td>\n      <td>60</td>\n      <td>92</td>\n    </tr>\n    <tr>\n      <th>1</th>\n      <td>64</td>\n      <td>5</td>\n      <td>12</td>\n      <td>93</td>\n      <td>40</td>\n    </tr>\n    <tr>\n      <th>2</th>\n      <td>49</td>\n      <td>83</td>\n      <td>8</td>\n      <td>29</td>\n      <td>59</td>\n    </tr>\n    <tr>\n      <th>3</th>\n      <td>34</td>\n      <td>44</td>\n      <td>72</td>\n      <td>19</td>\n      <td>10</td>\n    </tr>\n    <tr>\n      <th>4</th>\n      <td>76</td>\n      <td>95</td>\n      <td>87</td>\n      <td>0</td>\n      <td>73</td>\n    </tr>\n    <tr>\n      <th>...</th>\n      <td>...</td>\n      <td>...</td>\n      <td>...</td>\n      <td>...</td>\n      <td>...</td>\n    </tr>\n    <tr>\n      <th>95</th>\n      <td>26</td>\n      <td>87</td>\n      <td>65</td>\n      <td>60</td>\n      <td>89</td>\n    </tr>\n    <tr>\n      <th>96</th>\n      <td>70</td>\n      <td>33</td>\n      <td>59</td>\n      <td>28</td>\n      <td>16</td>\n    </tr>\n    <tr>\n      <th>97</th>\n      <td>49</td>\n      <td>95</td>\n      <td>41</td>\n      <td>11</td>\n      <td>86</td>\n    </tr>\n    <tr>\n      <th>98</th>\n      <td>15</td>\n      <td>95</td>\n      <td>91</td>\n      <td>19</td>\n      <td>69</td>\n    </tr>\n    <tr>\n      <th>99</th>\n      <td>1</td>\n      <td>77</td>\n      <td>63</td>\n      <td>87</td>\n      <td>28</td>\n    </tr>\n  </tbody>\n</table>\n<p>100 rows × 5 columns</p>\n</div>"
          },
          "metadata": {}
        }
      ],
      "execution_count": 5
    },
    {
      "cell_type": "code",
      "source": "dp=pd.DataFrame(np.random.randint(0,100,200).reshape(50,4)) #task 6\ndp.columns=['A','B','C','D']\ndp",
      "metadata": {
        "trusted": true
      },
      "outputs": [
        {
          "execution_count": 6,
          "output_type": "execute_result",
          "data": {
            "text/plain": "     A   B   C   D\n0   70   5   3  12\n1   62  26  96  61\n2   87  74  99  97\n3   64  95   3  88\n4   59  38  29  31\n5   88  57   9  62\n6   31  13  35  47\n7    2  17  50  22\n8   30  36  22  97\n9   51  38  28   4\n10   0  12  90   2\n11   7  44  54  49\n12  76  98   3  32\n13  91  43   7  42\n14  66   9   5  26\n15  66  22  47  27\n16  46  14  52  74\n17  54   3  94  36\n18  63  41  18  37\n19  45  82  47  66\n20  97  20   9  87\n21  40  13  95  16\n22  38  87  72  60\n23  78  53  48  83\n24  90  41  84  78\n25  55  70  93  57\n26  86  67   8  47\n27  70  39  53   5\n28  40  88  58  12\n29  70   5  82   8\n30  60  58  45  92\n31  85  44  62  39\n32  38  54  98  80\n33  93  16  37  58\n34  40  72  72  22\n35  42  38  45  16\n36  52  17  22  15\n37  18  37  48   2\n38   2  31  50  78\n39  70  40  60  62\n40  69  34  95  58\n41   4  70  20  18\n42  66  23  87  45\n43  64   6  39  29\n44  60  33  18  59\n45  64  59  65  10\n46  86  66  38  76\n47  97  79   7  65\n48  50  53   4  39\n49   1   5  67  92",
            "text/html": "<div>\n<style scoped>\n    .dataframe tbody tr th:only-of-type {\n        vertical-align: middle;\n    }\n\n    .dataframe tbody tr th {\n        vertical-align: top;\n    }\n\n    .dataframe thead th {\n        text-align: right;\n    }\n</style>\n<table border=\"1\" class=\"dataframe\">\n  <thead>\n    <tr style=\"text-align: right;\">\n      <th></th>\n      <th>A</th>\n      <th>B</th>\n      <th>C</th>\n      <th>D</th>\n    </tr>\n  </thead>\n  <tbody>\n    <tr>\n      <th>0</th>\n      <td>70</td>\n      <td>5</td>\n      <td>3</td>\n      <td>12</td>\n    </tr>\n    <tr>\n      <th>1</th>\n      <td>62</td>\n      <td>26</td>\n      <td>96</td>\n      <td>61</td>\n    </tr>\n    <tr>\n      <th>2</th>\n      <td>87</td>\n      <td>74</td>\n      <td>99</td>\n      <td>97</td>\n    </tr>\n    <tr>\n      <th>3</th>\n      <td>64</td>\n      <td>95</td>\n      <td>3</td>\n      <td>88</td>\n    </tr>\n    <tr>\n      <th>4</th>\n      <td>59</td>\n      <td>38</td>\n      <td>29</td>\n      <td>31</td>\n    </tr>\n    <tr>\n      <th>5</th>\n      <td>88</td>\n      <td>57</td>\n      <td>9</td>\n      <td>62</td>\n    </tr>\n    <tr>\n      <th>6</th>\n      <td>31</td>\n      <td>13</td>\n      <td>35</td>\n      <td>47</td>\n    </tr>\n    <tr>\n      <th>7</th>\n      <td>2</td>\n      <td>17</td>\n      <td>50</td>\n      <td>22</td>\n    </tr>\n    <tr>\n      <th>8</th>\n      <td>30</td>\n      <td>36</td>\n      <td>22</td>\n      <td>97</td>\n    </tr>\n    <tr>\n      <th>9</th>\n      <td>51</td>\n      <td>38</td>\n      <td>28</td>\n      <td>4</td>\n    </tr>\n    <tr>\n      <th>10</th>\n      <td>0</td>\n      <td>12</td>\n      <td>90</td>\n      <td>2</td>\n    </tr>\n    <tr>\n      <th>11</th>\n      <td>7</td>\n      <td>44</td>\n      <td>54</td>\n      <td>49</td>\n    </tr>\n    <tr>\n      <th>12</th>\n      <td>76</td>\n      <td>98</td>\n      <td>3</td>\n      <td>32</td>\n    </tr>\n    <tr>\n      <th>13</th>\n      <td>91</td>\n      <td>43</td>\n      <td>7</td>\n      <td>42</td>\n    </tr>\n    <tr>\n      <th>14</th>\n      <td>66</td>\n      <td>9</td>\n      <td>5</td>\n      <td>26</td>\n    </tr>\n    <tr>\n      <th>15</th>\n      <td>66</td>\n      <td>22</td>\n      <td>47</td>\n      <td>27</td>\n    </tr>\n    <tr>\n      <th>16</th>\n      <td>46</td>\n      <td>14</td>\n      <td>52</td>\n      <td>74</td>\n    </tr>\n    <tr>\n      <th>17</th>\n      <td>54</td>\n      <td>3</td>\n      <td>94</td>\n      <td>36</td>\n    </tr>\n    <tr>\n      <th>18</th>\n      <td>63</td>\n      <td>41</td>\n      <td>18</td>\n      <td>37</td>\n    </tr>\n    <tr>\n      <th>19</th>\n      <td>45</td>\n      <td>82</td>\n      <td>47</td>\n      <td>66</td>\n    </tr>\n    <tr>\n      <th>20</th>\n      <td>97</td>\n      <td>20</td>\n      <td>9</td>\n      <td>87</td>\n    </tr>\n    <tr>\n      <th>21</th>\n      <td>40</td>\n      <td>13</td>\n      <td>95</td>\n      <td>16</td>\n    </tr>\n    <tr>\n      <th>22</th>\n      <td>38</td>\n      <td>87</td>\n      <td>72</td>\n      <td>60</td>\n    </tr>\n    <tr>\n      <th>23</th>\n      <td>78</td>\n      <td>53</td>\n      <td>48</td>\n      <td>83</td>\n    </tr>\n    <tr>\n      <th>24</th>\n      <td>90</td>\n      <td>41</td>\n      <td>84</td>\n      <td>78</td>\n    </tr>\n    <tr>\n      <th>25</th>\n      <td>55</td>\n      <td>70</td>\n      <td>93</td>\n      <td>57</td>\n    </tr>\n    <tr>\n      <th>26</th>\n      <td>86</td>\n      <td>67</td>\n      <td>8</td>\n      <td>47</td>\n    </tr>\n    <tr>\n      <th>27</th>\n      <td>70</td>\n      <td>39</td>\n      <td>53</td>\n      <td>5</td>\n    </tr>\n    <tr>\n      <th>28</th>\n      <td>40</td>\n      <td>88</td>\n      <td>58</td>\n      <td>12</td>\n    </tr>\n    <tr>\n      <th>29</th>\n      <td>70</td>\n      <td>5</td>\n      <td>82</td>\n      <td>8</td>\n    </tr>\n    <tr>\n      <th>30</th>\n      <td>60</td>\n      <td>58</td>\n      <td>45</td>\n      <td>92</td>\n    </tr>\n    <tr>\n      <th>31</th>\n      <td>85</td>\n      <td>44</td>\n      <td>62</td>\n      <td>39</td>\n    </tr>\n    <tr>\n      <th>32</th>\n      <td>38</td>\n      <td>54</td>\n      <td>98</td>\n      <td>80</td>\n    </tr>\n    <tr>\n      <th>33</th>\n      <td>93</td>\n      <td>16</td>\n      <td>37</td>\n      <td>58</td>\n    </tr>\n    <tr>\n      <th>34</th>\n      <td>40</td>\n      <td>72</td>\n      <td>72</td>\n      <td>22</td>\n    </tr>\n    <tr>\n      <th>35</th>\n      <td>42</td>\n      <td>38</td>\n      <td>45</td>\n      <td>16</td>\n    </tr>\n    <tr>\n      <th>36</th>\n      <td>52</td>\n      <td>17</td>\n      <td>22</td>\n      <td>15</td>\n    </tr>\n    <tr>\n      <th>37</th>\n      <td>18</td>\n      <td>37</td>\n      <td>48</td>\n      <td>2</td>\n    </tr>\n    <tr>\n      <th>38</th>\n      <td>2</td>\n      <td>31</td>\n      <td>50</td>\n      <td>78</td>\n    </tr>\n    <tr>\n      <th>39</th>\n      <td>70</td>\n      <td>40</td>\n      <td>60</td>\n      <td>62</td>\n    </tr>\n    <tr>\n      <th>40</th>\n      <td>69</td>\n      <td>34</td>\n      <td>95</td>\n      <td>58</td>\n    </tr>\n    <tr>\n      <th>41</th>\n      <td>4</td>\n      <td>70</td>\n      <td>20</td>\n      <td>18</td>\n    </tr>\n    <tr>\n      <th>42</th>\n      <td>66</td>\n      <td>23</td>\n      <td>87</td>\n      <td>45</td>\n    </tr>\n    <tr>\n      <th>43</th>\n      <td>64</td>\n      <td>6</td>\n      <td>39</td>\n      <td>29</td>\n    </tr>\n    <tr>\n      <th>44</th>\n      <td>60</td>\n      <td>33</td>\n      <td>18</td>\n      <td>59</td>\n    </tr>\n    <tr>\n      <th>45</th>\n      <td>64</td>\n      <td>59</td>\n      <td>65</td>\n      <td>10</td>\n    </tr>\n    <tr>\n      <th>46</th>\n      <td>86</td>\n      <td>66</td>\n      <td>38</td>\n      <td>76</td>\n    </tr>\n    <tr>\n      <th>47</th>\n      <td>97</td>\n      <td>79</td>\n      <td>7</td>\n      <td>65</td>\n    </tr>\n    <tr>\n      <th>48</th>\n      <td>50</td>\n      <td>53</td>\n      <td>4</td>\n      <td>39</td>\n    </tr>\n    <tr>\n      <th>49</th>\n      <td>1</td>\n      <td>5</td>\n      <td>67</td>\n      <td>92</td>\n    </tr>\n  </tbody>\n</table>\n</div>"
          },
          "metadata": {}
        }
      ],
      "execution_count": 6
    },
    {
      "cell_type": "code",
      "source": "",
      "metadata": {
        "trusted": true
      },
      "outputs": [],
      "execution_count": null
    }
  ]
}